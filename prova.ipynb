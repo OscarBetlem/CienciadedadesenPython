{
 "cells": [
  {
   "cell_type": "markdown",
   "metadata": {},
   "source": [
    "# Exercici 1"
   ]
  },
  {
   "cell_type": "code",
   "execution_count": 3,
   "metadata": {},
   "outputs": [],
   "source": [
    "T1r=['gener','febrer','març']\n",
    "T2n=['abril','maig','juny']\n",
    "T3r=['juliol','agost','setembre']\n",
    "T4r=['octubre','novembre','desembre']\n",
    "any=[T1r,T2n,T3r,T4r]"
   ]
  },
  {
   "cell_type": "code",
   "execution_count": 6,
   "metadata": {},
   "outputs": [
    {
     "name": "stdout",
     "output_type": "stream",
     "text": [
      "gener; febrer; març; \n",
      "abril; maig; juny; \n",
      "juliol; agost; setembre; \n",
      "octubre; novembre; desembre; \n"
     ]
    }
   ],
   "source": [
    "for tri in any:\n",
    "    for mes in tri:\n",
    "        print(mes,end='; ')\n",
    "    print()"
   ]
  },
  {
   "cell_type": "markdown",
   "metadata": {},
   "source": [
    "# Exercici 2"
   ]
  },
  {
   "cell_type": "code",
   "execution_count": 8,
   "metadata": {},
   "outputs": [
    {
     "name": "stdout",
     "output_type": "stream",
     "text": [
      "febrer\n",
      "['gener', 'febrer', 'març']\n",
      "setembre octubre\n"
     ]
    }
   ],
   "source": [
    "print(any[0][1])\n",
    "print(any[0])\n",
    "print(any[2][2], any[3][0])"
   ]
  },
  {
   "cell_type": "markdown",
   "metadata": {},
   "source": [
    "# Exercici 3"
   ]
  },
  {
   "cell_type": "code",
   "execution_count": 43,
   "metadata": {},
   "outputs": [
    {
     "name": "stdout",
     "output_type": "stream",
     "text": [
      "20\n"
     ]
    },
    {
     "data": {
      "text/plain": [
       "[13, 8, 17, 6, 4, 5, 14, 0, 13, 12, 20, 11, 16, 8, 10, 9, 9, 19, 2, 14]"
      ]
     },
     "execution_count": 43,
     "metadata": {},
     "output_type": "execute_result"
    }
   ],
   "source": [
    "import random \n",
    "llista_nombres = [random.randint(0,20) for x in range(20)]\n",
    "llista_nombres\n"
   ]
  },
  {
   "cell_type": "code",
   "execution_count": 48,
   "metadata": {},
   "outputs": [
    {
     "name": "stdout",
     "output_type": "stream",
     "text": [
      "La llista té : 20 nombres.\n",
      "A la llista hi ha:  1  vegades 4.\n",
      "A la llista hi ha:  1  vegades 3 o 4.\n",
      " El valor més gran és:  20\n",
      " Els tres valors més petits són:  [0, 2, 4]\n"
     ]
    }
   ],
   "source": [
    "print('La llista té :',len(llista_nombres),'nombres.')\n",
    "print('A la llista hi ha: ',llista_nombres.count(4), ' vegades 4.')\n",
    "print('A la llista hi ha: ',(llista_nombres.count(4)+llista_nombres.count(3)),' vegades 3 o 4.' )\n",
    "llista_nombres.sort()\n",
    "print('El valor més gran és: ',llista_nombres[-1])\n",
    "print('Els tres valors més petits són: ',llista_nombres[0:3])\n",
    "\n"
   ]
  },
  {
   "cell_type": "markdown",
   "metadata": {},
   "source": [
    "# Exercici 4"
   ]
  },
  {
   "cell_type": "code",
   "execution_count": 49,
   "metadata": {},
   "outputs": [],
   "source": [
    "compra = {\n",
    "    'Pomes':{'Qty':5,'€':0.42},\n",
    "    'Peres':{'Qty':3,'€':0.66}}"
   ]
  },
  {
   "cell_type": "code",
   "execution_count": 53,
   "metadata": {},
   "outputs": [
    {
     "data": {
      "text/plain": [
       "{'Qty': 5, '€': 0.42}"
      ]
     },
     "execution_count": 53,
     "metadata": {},
     "output_type": "execute_result"
    }
   ],
   "source": [
    "compra['Pomes']"
   ]
  },
  {
   "cell_type": "code",
   "execution_count": 55,
   "metadata": {},
   "outputs": [
    {
     "data": {
      "text/plain": [
       "{'Pomes': {'Qty': 5, '€': 0.42},\n",
       " 'Peres': {'Qty': 3, '€': 0.66},\n",
       " 'Taronges': {'Qty': 3, '€': 0.66}}"
      ]
     },
     "execution_count": 55,
     "metadata": {},
     "output_type": "execute_result"
    }
   ],
   "source": [
    "compra"
   ]
  },
  {
   "cell_type": "code",
   "execution_count": 54,
   "metadata": {},
   "outputs": [],
   "source": [
    "compra['Taronges']={'Qty':3,'€':0.66}"
   ]
  }
 ],
 "metadata": {
  "kernelspec": {
   "display_name": "Python 3",
   "language": "python",
   "name": "python3"
  },
  "language_info": {
   "codemirror_mode": {
    "name": "ipython",
    "version": 3
   },
   "file_extension": ".py",
   "mimetype": "text/x-python",
   "name": "python",
   "nbconvert_exporter": "python",
   "pygments_lexer": "ipython3",
   "version": "3.12.0"
  }
 },
 "nbformat": 4,
 "nbformat_minor": 2
}
