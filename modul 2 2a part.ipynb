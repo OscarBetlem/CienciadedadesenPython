{
 "cells": [
  {
   "cell_type": "markdown",
   "metadata": {},
   "source": [
    "# Exercici 1"
   ]
  },
  {
   "cell_type": "code",
   "execution_count": 10,
   "metadata": {},
   "outputs": [],
   "source": [
    "def nota_text(nota):\n",
    "    if nota >10:\n",
    "        return 'no entenc la nota'\n",
    "    elif nota >= 9:\n",
    "        return 'Excel·lent'\n",
    "    elif nota > 7:\n",
    "        return 'Notable'\n",
    "    elif nota > 5:\n",
    "        return 'Aprovat'\n",
    "    elif nota > 0:\n",
    "        return 'Suspés'\n",
    "    else:\n",
    "        return \n",
    "\n"
   ]
  },
  {
   "cell_type": "code",
   "execution_count": 13,
   "metadata": {},
   "outputs": [
    {
     "data": {
      "text/plain": [
       "'Suspés'"
      ]
     },
     "execution_count": 13,
     "metadata": {},
     "output_type": "execute_result"
    }
   ],
   "source": [
    "nota_text(4)"
   ]
  },
  {
   "cell_type": "markdown",
   "metadata": {},
   "source": [
    "# Exercici 2"
   ]
  },
  {
   "cell_type": "code",
   "execution_count": 19,
   "metadata": {},
   "outputs": [
    {
     "name": "stdout",
     "output_type": "stream",
     "text": [
      "EL valor més gran és son iguals\n"
     ]
    }
   ],
   "source": [
    "\n",
    "def gran(a,b):\n",
    "    if a>b:\n",
    "        return a\n",
    "    elif b>a:\n",
    "        return b\n",
    "    else:\n",
    "        return 'son iguals'\n",
    "\n",
    "a=float(input ('Entra el valor a:'))\n",
    "b=float(input ('Entra el valor b:'))\n",
    "g= gran(a,b)\n",
    "print(f'EL valor més gran és {g}')"
   ]
  },
  {
   "cell_type": "markdown",
   "metadata": {},
   "source": [
    "# Exercici 3"
   ]
  },
  {
   "cell_type": "code",
   "execution_count": 21,
   "metadata": {},
   "outputs": [
    {
     "name": "stdout",
     "output_type": "stream",
     "text": [
      "oscaroscaroscaroscar\n"
     ]
    }
   ],
   "source": [
    "def repetir(nom,vegades=1):\n",
    "    if vegades ==0:\n",
    "        print('no es pot fer')\n",
    "        return\n",
    "    print(nom*vegades)\n",
    "    \n",
    "repetir ('oscar',4)"
   ]
  },
  {
   "cell_type": "markdown",
   "metadata": {},
   "source": [
    "# Exercici 4"
   ]
  },
  {
   "cell_type": "code",
   "execution_count": 22,
   "metadata": {},
   "outputs": [],
   "source": [
    "def simetrica(llista):\n",
    "    if llista == llista [::-1]:\n",
    "        print (len(llista))\n",
    "    else:\n",
    "        print('No és simètrica')"
   ]
  },
  {
   "cell_type": "code",
   "execution_count": 24,
   "metadata": {},
   "outputs": [
    {
     "name": "stdout",
     "output_type": "stream",
     "text": [
      "5\n"
     ]
    }
   ],
   "source": [
    "simetrica([1,2,3,2,1])"
   ]
  },
  {
   "cell_type": "markdown",
   "metadata": {},
   "source": [
    "# Exercici 5"
   ]
  },
  {
   "cell_type": "code",
   "execution_count": 28,
   "metadata": {},
   "outputs": [],
   "source": [
    "def posicio(llista):\n",
    "    i=0\n",
    "    for element in llista:\n",
    "        if element == i:\n",
    "            print(i,end='; ')\n",
    "        i=i+1\n"
   ]
  },
  {
   "cell_type": "code",
   "execution_count": 29,
   "metadata": {},
   "outputs": [
    {
     "name": "stdout",
     "output_type": "stream",
     "text": [
      "0; 2; 3; 4; 5; 6; "
     ]
    }
   ],
   "source": [
    "posicio([0,2,2,3,4,5,6,6,77,7])"
   ]
  }
 ],
 "metadata": {
  "kernelspec": {
   "display_name": "Python 3",
   "language": "python",
   "name": "python3"
  },
  "language_info": {
   "codemirror_mode": {
    "name": "ipython",
    "version": 3
   },
   "file_extension": ".py",
   "mimetype": "text/x-python",
   "name": "python",
   "nbconvert_exporter": "python",
   "pygments_lexer": "ipython3",
   "version": "3.12.0"
  }
 },
 "nbformat": 4,
 "nbformat_minor": 2
}
